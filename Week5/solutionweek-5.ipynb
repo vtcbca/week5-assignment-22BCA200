{
 "cells": [
  {
   "cell_type": "code",
   "execution_count": 1,
   "id": "06dfcf10",
   "metadata": {},
   "outputs": [],
   "source": [
    "import csv "
   ]
  },
  {
   "cell_type": "code",
   "execution_count": 2,
   "id": "602e2f19",
   "metadata": {},
   "outputs": [],
   "source": [
    "head=(['sid','sname','city','contact'])"
   ]
  },
  {
   "cell_type": "code",
   "execution_count": 3,
   "id": "a97e3d7f",
   "metadata": {},
   "outputs": [],
   "source": [
    "row=(['1','om','baben','9825560068'],\n",
    "     ['2','sai','bardoli','9829445678'],\n",
    "     ['3','ram','vyara','7854361098'],\n",
    "     ['4','tulsi','buhari','7016750443'],\n",
    "     ['5','mehak','madhi','9925461269'])"
   ]
  },
  {
   "cell_type": "code",
   "execution_count": 4,
   "id": "54b73480",
   "metadata": {},
   "outputs": [
    {
     "name": "stdout",
     "output_type": "stream",
     "text": [
      "Enter cid:6\n",
      "Enter first name:henil\n",
      "Enter city name:madhi\n",
      "Enter contact number:7016760332\n",
      "Enter cid:7\n",
      "Enter first name:malay\n",
      "Enter city name:aena\n",
      "Enter contact number:8899070123\n",
      "Enter cid:8\n",
      "Enter first name:yash\n",
      "Enter city name:buhari\n",
      "Enter contact number:9906655442\n",
      "Enter cid:9\n",
      "Enter first name:jack\n",
      "Enter city name:bardoli\n",
      "Enter contact number:9786543234\n"
     ]
    }
   ],
   "source": [
    "with open(\"student.csv\",\"w\",newline=\"\") as file:\n",
    "    writer=csv.writer(file)\n",
    "    writer.writerow(head)\n",
    "    writer.writerows(row)\n",
    "    for i in range (4):\n",
    "        sid=int(input(\"Enter cid:\"))\n",
    "        sname=input(\"Enter first name:\")\n",
    "        city=input(\"Enter city name:\")\n",
    "        contact=int(input(\"Enter contact number:\"))\n",
    "        t=[sid,sname,city,contact]\n",
    "        writer.writerow(t)"
   ]
  },
  {
   "cell_type": "code",
   "execution_count": 5,
   "id": "4cabf482",
   "metadata": {},
   "outputs": [],
   "source": [
    "from csv import reader "
   ]
  },
  {
   "cell_type": "code",
   "execution_count": 6,
   "id": "f99a8afb",
   "metadata": {},
   "outputs": [
    {
     "name": "stdout",
     "output_type": "stream",
     "text": [
      "['sid', 'sname', 'city', 'contact']\n",
      "['1', 'om', 'baben', '9825560068']\n",
      "['2', 'sai', 'bardoli', '9829445678']\n",
      "['3', 'ram', 'vyara', '7854361098']\n",
      "['4', 'tulsi', 'buhari', '7016750443']\n",
      "['5', 'mehak', 'madhi', '9925461269']\n",
      "['6', 'henil', 'madhi', '7016760332']\n",
      "['7', 'malay', 'aena', '8899070123']\n",
      "['8', 'yash', 'buhari', '9906655442']\n",
      "['9', 'jack', 'bardoli', '9786543234']\n"
     ]
    }
   ],
   "source": [
    "with open(\"student.csv\",\"r\",newline=\"\") as file:\n",
    "    read=reader(file)\n",
    "    for rows in read:\n",
    "        print(rows)"
   ]
  },
  {
   "cell_type": "code",
   "execution_count": null,
   "id": "3925037b",
   "metadata": {},
   "outputs": [],
   "source": []
  }
 ],
 "metadata": {
  "kernelspec": {
   "display_name": "Python 3 (ipykernel)",
   "language": "python",
   "name": "python3"
  },
  "language_info": {
   "codemirror_mode": {
    "name": "ipython",
    "version": 3
   },
   "file_extension": ".py",
   "mimetype": "text/x-python",
   "name": "python",
   "nbconvert_exporter": "python",
   "pygments_lexer": "ipython3",
   "version": "3.11.4"
  }
 },
 "nbformat": 4,
 "nbformat_minor": 5
}
